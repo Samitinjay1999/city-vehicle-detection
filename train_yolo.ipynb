{
 "cells": [
  {
   "cell_type": "code",
   "execution_count": 1,
   "id": "e2e515d1",
   "metadata": {},
   "outputs": [],
   "source": [
    "from ultralytics import YOLO\n",
    "import torch"
   ]
  },
  {
   "cell_type": "code",
   "execution_count": null,
   "id": "64f46e25",
   "metadata": {},
   "outputs": [
    {
     "data": {
      "text/plain": [
       "False"
      ]
     },
     "execution_count": 2,
     "metadata": {},
     "output_type": "execute_result"
    }
   ],
   "source": [
    "torch.cuda.is_available()"
   ]
  },
  {
   "cell_type": "code",
   "execution_count": null,
   "id": "99c2b4be",
   "metadata": {},
   "outputs": [],
   "source": [
    "model = YOLO(\"yolov8n.pt\")  \n",
    "\n",
    "model.train(\n",
    "    data=r\"D:\\study\\Webkul_assignments\\Object-Detection-System\\dataset\\yolov8_config.yaml\",\n",
    "    epochs=50,\n",
    "    imgsz=640\n",
    ")\n",
    "\n"
   ]
  },
  {
   "cell_type": "code",
   "execution_count": 10,
   "id": "6a01e483",
   "metadata": {},
   "outputs": [
    {
     "name": "stdout",
     "output_type": "stream",
     "text": [
      "\n",
      "image 1/1 d:\\study\\Webkul_assignments\\Object-Detection-System\\dataset\\images\\val\\1a21cc34_95fdc8.jpg: 384x640 4 autos, 9 cars, 6 two_wheelers, 278.5ms\n",
      "Speed: 32.8ms preprocess, 278.5ms inference, 35.5ms postprocess per image at shape (1, 3, 384, 640)\n",
      "Results saved to \u001b[1mruns\\detect\\predict\u001b[0m\n"
     ]
    }
   ],
   "source": [
    "model = YOLO(\"best.pt\")  \n",
    "\n",
    "# Predict on a single image\n",
    "results = model.predict(\n",
    "    source=r\"images\\val\\1a21cc34_95fdc8.jpg\",  # change to your test image\n",
    "    save=True,         # saves output to runs/detect/predict/\n",
    "    conf=0.25,         # confidence threshold (you can lower or raise this)\n",
    "    show=True          # optional: shows image inline in Jupyter/Colab\n",
    ") "
   ]
  }
 ],
 "metadata": {
  "kernelspec": {
   "display_name": ".venv",
   "language": "python",
   "name": "python3"
  },
  "language_info": {
   "codemirror_mode": {
    "name": "ipython",
    "version": 3
   },
   "file_extension": ".py",
   "mimetype": "text/x-python",
   "name": "python",
   "nbconvert_exporter": "python",
   "pygments_lexer": "ipython3",
   "version": "3.12.10"
  }
 },
 "nbformat": 4,
 "nbformat_minor": 5
}
